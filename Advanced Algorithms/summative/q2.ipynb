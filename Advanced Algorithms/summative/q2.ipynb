{
 "cells": [
  {
   "cell_type": "code",
   "execution_count": 5,
   "metadata": {},
   "outputs": [
    {
     "name": "stdout",
     "output_type": "stream",
     "text": [
      "73 -> 75\n",
      "67 -> 67\n",
      "38 -> 40\n",
      "33 -> 33\n"
     ]
    }
   ],
   "source": [
    "def roundGrades(n, grades):\n",
    "    # loop through grades\n",
    "    for x in range(n):\n",
    "        # skip grades less than 38 or already rounded\n",
    "        if grades[x] < 38 or grades[x] % 5 == 0:\n",
    "            continue\n",
    "\n",
    "        # find difference with next round\n",
    "        if 5 - (grades[x] % 5) < 3:\n",
    "            diff = 5 - (grades[x] % 5)\n",
    "            # round if diff is less than 3\n",
    "            grades[x] = grades[x] + diff\n",
    "    return grades\n",
    "\n",
    "test = [73, 67,38, 33]\n",
    "out = roundGrades(4, test)\n",
    "for x in range(len(test)):\n",
    "        print([73, 67,38, 33][x], '->', out[x])"
   ]
  }
 ],
 "metadata": {
  "interpreter": {
   "hash": "fd69f43f58546b570e94fd7eba7b65e6bcc7a5bbc4eab0408017d18902915d69"
  },
  "kernelspec": {
   "display_name": "Python 3.7.11 64-bit",
   "name": "python3"
  },
  "language_info": {
   "name": "python",
   "version": ""
  },
  "orig_nbformat": 4
 },
 "nbformat": 4,
 "nbformat_minor": 2
}