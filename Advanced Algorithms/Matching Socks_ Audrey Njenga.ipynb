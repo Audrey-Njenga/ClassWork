{
 "cells": [
  {
   "cell_type": "code",
   "execution_count": 1,
   "metadata": {},
   "outputs": [
    {
     "name": "stdout",
     "output_type": "stream",
     "text": [
      "3\n",
      "4\n",
      "0\n",
      "0\n",
      "6\n",
      "9\n"
     ]
    }
   ],
   "source": [
    "def matchingSocks(socks): \n",
    "    # edge case\n",
    "    if len(socks) == 0 or len(socks) == 1:\n",
    "        return 0\n",
    "    # get set of unique colors in socks\n",
    "    singles = set(socks)\n",
    "    pairs = 0\n",
    "    for x in singles:\n",
    "        # get no of pairs of that color\n",
    "        y = socks.count(x) // 2\n",
    "        # add to total pairs\n",
    "        pairs += y        \n",
    "    return pairs\n",
    "\n",
    "\n",
    "print(matchingSocks([10,20,20,10,10,30,50,10,20]))\n",
    "print(matchingSocks([1,2,1,3,4,2,5,4,1,3]))\n",
    "print(matchingSocks([]))\n",
    "print(matchingSocks([8]))\n",
    "print(matchingSocks([1,2,4,3,7,4,3,7,2,7,2,5,2,0,9,5]))\n",
    "print(matchingSocks([1,2,3,4,5,6,2,8,9,11,11,1,24,14,15,16,39,18,19,7,8,22,22,8,25,8,9,5,4,30]))\n"
   ]
  },
  {
   "cell_type": "code",
   "execution_count": null,
   "metadata": {},
   "outputs": [],
   "source": []
  }
 ],
 "metadata": {
  "kernelspec": {
   "display_name": "aidev",
   "language": "python",
   "name": "aidev"
  },
  "language_info": {
   "codemirror_mode": {
    "name": "ipython",
    "version": 3
   },
   "file_extension": ".py",
   "mimetype": "text/x-python",
   "name": "python",
   "nbconvert_exporter": "python",
   "pygments_lexer": "ipython3",
   "version": "3.7.4"
  }
 },
 "nbformat": 4,
 "nbformat_minor": 2
}