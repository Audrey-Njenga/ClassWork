{
 "cells": [
  {
   "cell_type": "code",
   "execution_count": 7,
   "metadata": {},
   "outputs": [
    {
     "name": "stdout",
     "output_type": "stream",
     "text": [
      "8\n",
      "3\n"
     ]
    }
   ],
   "source": [
    "def superDigit(n, k):\n",
    "    # return digit for single digits\n",
    "    if len(n) == 1:\n",
    "        return int(n)\n",
    "\n",
    "    # concatenate n based on k\n",
    "    p = n * k\n",
    "    # loop until num is single digit\n",
    "    while len(p) > 1:  \n",
    "        # sum digits  \n",
    "        digit = sum([int(x) for x in p ])\n",
    "        # update p to sum as a string\n",
    "        p = str(digit)\n",
    "    return digit\n",
    "\n",
    "print(superDigit('9875', 4))\n",
    "\n",
    "print(superDigit('148', 3))"
   ]
  }
 ],
 "metadata": {
  "interpreter": {
   "hash": "fd69f43f58546b570e94fd7eba7b65e6bcc7a5bbc4eab0408017d18902915d69"
  },
  "kernelspec": {
   "display_name": "Python 3.7.11 64-bit",
   "name": "python3"
  },
  "language_info": {
   "name": "python",
   "version": ""
  },
  "orig_nbformat": 4
 },
 "nbformat": 4,
 "nbformat_minor": 2
}