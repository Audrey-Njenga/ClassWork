{
 "cells": [
  {
   "cell_type": "code",
   "execution_count": 1,
   "metadata": {},
   "outputs": [
    {
     "name": "stdout",
     "output_type": "stream",
     "text": [
      "16\n"
     ]
    }
   ],
   "source": [
    "def spanningTree( V, adj):\n",
    "    # track included nodes\n",
    "    mst = [False for x in range(V)]\n",
    "    # track included weights\n",
    "    keys = [float('inf') for v in range(V)]\n",
    "    keys[0] = 0\n",
    "\n",
    "    # helper function to find node with min weight\n",
    "    def minVertex(keys, mst):\n",
    "        minKey = float('inf')\n",
    "        for y in range(len(keys)):\n",
    "            if keys[y] < minKey and not mst[y]:\n",
    "                minKey = keys[y]\n",
    "                minIndex = y\n",
    "        return minIndex\n",
    "\n",
    "    # while all nodes are not included in mst\n",
    "    for v in range(V):\n",
    "        minVal = minVertex(keys, mst)\n",
    "        mst[minVal] = True\n",
    "        for x in range(len(adj[minVal])):\n",
    "            if adj[minVal][x] != 0 and mst[x] == False and adj[minVal][x] < keys[x]:\n",
    "                keys[x] = adj[minVal][x]\n",
    "    # return total weighted sum of minimum spanning tree\n",
    "    return sum(keys)\n",
    "\n",
    "\n",
    "print(spanningTree(5, [[0, 2, 0, 6, 0],\n",
    "                    [2, 0, 3, 8, 5],\n",
    "                    [0, 3, 0, 0, 7],\n",
    "                    [6, 8, 0, 0, 9],\n",
    "                    [0, 5, 7, 9, 0]]))"
   ]
  }
 ],
 "metadata": {
  "kernelspec": {
   "display_name": "Python 3.7.4 64-bit ('base': conda)",
   "name": "aidev"
  },
  "language_info": {
   "codemirror_mode": {
    "name": "ipython",
    "version": 3
   },
   "file_extension": ".py",
   "mimetype": "text/x-python",
   "name": "python",
   "nbconvert_exporter": "python",
   "pygments_lexer": "ipython3",
   "version": "3.7.4"
  },
  "orig_nbformat": 4
 },
 "nbformat": 4,
 "nbformat_minor": 2
}