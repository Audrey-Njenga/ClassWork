{
 "cells": [
  {
   "cell_type": "code",
   "execution_count": 7,
   "metadata": {},
   "outputs": [
    {
     "name": "stdout",
     "output_type": "stream",
     "text": [
      "[0, 24, 3, 15]\n",
      "[0, 5, 15, inf, inf]\n"
     ]
    }
   ],
   "source": [
    "def shortestReach(nodes, edges, start):\n",
    "    # will store distances from start node\n",
    "    distances = [float('inf') for x in range(nodes)]\n",
    "    # track visited nodes\n",
    "    visited = []\n",
    "    previous = ['-' for x in range(nodes)]\n",
    "    # distance from start node to start node\n",
    "    distances[0] = 0\n",
    "    # update distances of nodes connected to start node\n",
    "    for x in edges:\n",
    "        if x[0] == 1:\n",
    "            distances[x[1]-1] = x[2]\n",
    "            previous[x[1]-1] = 1\n",
    "    visited.append(1)\n",
    "    while len(visited) < nodes:\n",
    "        # get node with the shortest distance to start\n",
    "        smallest = float('inf')\n",
    "        m = 0\n",
    "        for y in range(len(distances)):\n",
    "            if y+1 not in visited and distances[y] < smallest:\n",
    "                smallest = distances[y]\n",
    "                m = y+1\n",
    "        visited.append(m)\n",
    "        for z in range(len(edges)):\n",
    "            if edges[z][0] == m and edges[z][1] not in visited:\n",
    "                # calculate distance\n",
    "                dist = edges[z][2] + distances[z-1]\n",
    "                # update distance if less than known distance\n",
    "                if dist < distances[edges[z][1] - 1]:\n",
    "                    no = edges[z][1] - 1\n",
    "                    distances[no] = dist\n",
    "    return distances\n",
    "\n",
    "\n",
    "print(shortestReach(5, [[1, 2, 5], [1, 3, 15], [2, 3, 6], [3, 4, 2]], 1))\n",
    "\n",
    "testEdges = [[1, 2, 24], [1, 2, 3], [1, 4, 20], [3, 4, 12]]\n",
    "testNodes = 4\n",
    "testStart = 1\n",
    "print(shortestReach(testNodes, testEdges, testStart))\n"
   ]
  }
 ],
 "metadata": {
  "interpreter": {
   "hash": "fd69f43f58546b570e94fd7eba7b65e6bcc7a5bbc4eab0408017d18902915d69"
  },
  "kernelspec": {
   "display_name": "Python 3.7.11 64-bit",
   "name": "python3"
  },
  "language_info": {
   "codemirror_mode": {
    "name": "ipython",
    "version": 3
   },
   "file_extension": ".py",
   "mimetype": "text/x-python",
   "name": "python",
   "nbconvert_exporter": "python",
   "pygments_lexer": "ipython3",
   "version": "3.7.4"
  },
  "orig_nbformat": 4
 },
 "nbformat": 4,
 "nbformat_minor": 2
}