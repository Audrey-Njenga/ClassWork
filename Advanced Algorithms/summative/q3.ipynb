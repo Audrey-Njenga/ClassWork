{
 "cells": [
  {
   "cell_type": "code",
   "execution_count": 1,
   "metadata": {},
   "outputs": [],
   "source": [
    "import random\n",
    "def encryption(key, text):\n",
    "    # create (key x text length) matrix\n",
    "    res = [['-' for i in range(len(text))] for j in range(key)]\n",
    "    # add text to array \n",
    "    text = [k for k in text]\n",
    "    # initialize row, col values\n",
    "    x = 0\n",
    "    y = 0\n",
    "    # loop while text array \n",
    "    while text:\n",
    "        # add to matrix\n",
    "        res[x][y] = text[0]\n",
    "        text.pop(0)\n",
    "        x += 1\n",
    "        y += 1\n",
    "        res[x][y] = text[0]\n",
    "        text.pop(0)\n",
    "        # increment until row = key and col = len(key)\n",
    "        if x == key - 1:\n",
    "            x = 0\n",
    "            y += 1\n",
    "        if y == len(text) - 1:\n",
    "            y = 0\n",
    "            x += 1\n",
    "    encrypted_text = []\n",
    "    # return encrypted text\n",
    "    for p in range(key):\n",
    "        for q in range(len(res[p])):\n",
    "            if res[p][q] != '-':\n",
    "                encrypted_text.append(res[p][q])\n",
    "\n",
    "    return ''.join(encrypted_text)\n",
    "\n"
   ]
  },
  {
   "cell_type": "code",
   "execution_count": 2,
   "metadata": {},
   "outputs": [
    {
     "name": "stdout",
     "output_type": "stream",
     "text": [
      "pantxli et\n"
     ]
    }
   ],
   "source": [
    "print(encryption(2, 'plain text'))"
   ]
  },
  {
   "cell_type": "code",
   "execution_count": 3,
   "metadata": {},
   "outputs": [
    {
     "name": "stdout",
     "output_type": "stream",
     "text": [
      "pnxattie\n"
     ]
    }
   ],
   "source": [
    "print(encryption(3, 'plain text'))"
   ]
  }
 ],
 "metadata": {
  "interpreter": {
   "hash": "7722fffa8a2eadf95935c22eed09406ac067486d027d7cb76cc79752c2061d1a"
  },
  "kernelspec": {
   "display_name": "Python 3.7.4 64-bit ('base': conda)",
   "name": "python3"
  },
  "language_info": {
   "name": "python",
   "version": ""
  },
  "orig_nbformat": 4
 },
 "nbformat": 4,
 "nbformat_minor": 2
}